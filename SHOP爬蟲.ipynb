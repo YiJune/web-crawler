{
 "cells": [
  {
   "cell_type": "code",
   "execution_count": 63,
   "id": "9da031c3",
   "metadata": {},
   "outputs": [
    {
     "name": "stdout",
     "output_type": "stream",
     "text": [
      "Duramo 9 跑鞋 男 共4款\n",
      "Panasonic國際牌 6L 節能 除濕機 F-Y12ES 國際牌除濕機 一級能效【可申請節能家電退稅500】\n",
      "KAMOME FKLT-251D 極靜音金屬循環風扇 (附遙控器) 251D  DC風扇 10吋 立扇  Beu\n",
      "倍潔雅x蝦皮聯名 抽取式衛生紙(200抽x14包x4袋)/箱(加量版)【六款包裝隨機出貨】\n",
      "【美國Cuisinart美膳雅】17公升數位式氣炸烤箱 TOA-65PCTW 加碼贈不沾抗刮30cm單柄煎鍋｜官方旗艦店\n",
      "5D滿版玻璃貼 保護貼適用iPhone 14 13 12 11 Pro Max SE2 XR XS X i13 i11\n",
      "Q哥 充電頭 充電器 豆腐頭 PD快充頭 PD快充 快充頭 適用 iPhone14 13 12 11 XR QEKB04\n",
      "Dyson HD08 Supersonic 新一代吹風機(五吹嘴全配版)四色選 公司貨二年保\n",
      "SMILE史邁爾 保險套 12入/盒 3in1款/超薄/環紋/顆粒 任選 現貨 蝦皮直送  \n",
      "除臭鞋墊防臭吸汗透氣男女鞋墊\n",
      "🔥升級款➕可俯拍🔥 藍芽自拍棒 補光 自拍棒 自拍神器 手機脚架 藍芽 自拍桿 三脚架 直播腳架 自拍腳架 手機自拍支架\n",
      "一體式錶殼 手錶保護殼 適用於 Apple Watch 8代 5 6 7 SE 蘋果手錶硬殼 41mm 49m 45mm\n",
      "卡滋 桶裝爆米花 草莓戀乳/巧達起司甜/美式焦糖牛奶/美式特濃巧克力/焦糖玫瑰鹽(蘑菇球) 蝦皮直送 (部分即期)\n",
      "[熱賣] Ipad 手機多功能觸摸屏繪畫筆通用套裝多功能觸摸屏繪畫鉛筆\n",
      "秒貼滿版保護貼 玻璃貼 貼膜神器適用iPhone 14 13 12 11 Pro Max XR XS X i11 i13\n",
      "🔥新款KF94 下殺1元 🔥在台現貨出貨 韓國明星同款 單片獨立包裝蝶形9D立體 莫蘭迪色系 韓國口罩 防飛沫 防花妝\n"
     ]
    }
   ],
   "source": [
    "import requests\n",
    "import json\n",
    "payload='{\"promotionid\": 145975727558659, \"categoryid\": 0,\"itemids\": [23425431604,1541489230,3993956753,7854153072,22524853508,158220308,12139892855,11217065501,1256020194,8605077119,11132799325,7734366701,2038620601,20329497058,21773918976,15082693079],\"limit\": 16,\"with_dp_items\": true}'\n",
    "res=requests.post(\"https://shopee.tw/api/v4/flash_sale/flash_sale_batch_get_items\", payload)\n",
    "js=json.loads(res.text)\n",
    "num=0\n",
    "for shop in js['data']['items'][0:]:\n",
    "    num+=1\n",
    "    if num ==shop:\n",
    "        break\n",
    "    print(shop['name'])"
   ]
  },
  {
   "cell_type": "code",
   "execution_count": null,
   "id": "2045173d",
   "metadata": {},
   "outputs": [],
   "source": []
  },
  {
   "cell_type": "code",
   "execution_count": null,
   "id": "0b2838a0",
   "metadata": {},
   "outputs": [],
   "source": []
  },
  {
   "cell_type": "code",
   "execution_count": null,
   "id": "7f570d10",
   "metadata": {},
   "outputs": [],
   "source": []
  },
  {
   "cell_type": "code",
   "execution_count": null,
   "id": "5f2f440b",
   "metadata": {},
   "outputs": [],
   "source": []
  },
  {
   "cell_type": "code",
   "execution_count": null,
   "id": "bc72952f",
   "metadata": {},
   "outputs": [],
   "source": []
  }
 ],
 "metadata": {
  "kernelspec": {
   "display_name": "Python 3 (ipykernel)",
   "language": "python",
   "name": "python3"
  },
  "language_info": {
   "codemirror_mode": {
    "name": "ipython",
    "version": 3
   },
   "file_extension": ".py",
   "mimetype": "text/x-python",
   "name": "python",
   "nbconvert_exporter": "python",
   "pygments_lexer": "ipython3",
   "version": "3.10.9"
  }
 },
 "nbformat": 4,
 "nbformat_minor": 5
}
