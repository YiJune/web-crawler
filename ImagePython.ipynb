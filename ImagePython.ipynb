{
 "cells": [
  {
   "cell_type": "code",
   "execution_count": 48,
   "id": "f4700ffc",
   "metadata": {},
   "outputs": [
    {
     "name": "stderr",
     "output_type": "stream",
     "text": [
      "C:\\Users\\YiJune\\AppData\\Local\\Temp\\ipykernel_16024\\3123401483.py:8: DeprecationWarning: executable_path has been deprecated, please pass in a Service object\n",
      "  driver = webdriver.Chrome(\"C:\\\\Users\\\\YiJune\\\\PY\\\\chromedriver.exe\") #先下載chromedriver\n"
     ]
    }
   ],
   "source": [
    "from selenium import webdriver#瀏覽器\n",
    "from selenium.webdriver.common.by import By#選取器\n",
    "from selenium.webdriver.support.wait import WebDriverWait #網路等待\n",
    "from selenium.webdriver.support import expected_conditions as ec #元素狀態判斷\n",
    "from selenium.webdriver.chrome.options import Options #瀏覽器設定\n",
    "from bs4 import BeautifulSoup as bs\n",
    "import time\n",
    "driver = webdriver.Chrome(\"C:\\\\Users\\\\YiJune\\\\PY\\\\chromedriver.exe\") #先下載chromedriver\n",
    "driver.get(\"https://www.google.com.tw/imghp?hl=zh-TW&ogbl\") #連結網頁\n",
    "findtext=WebDriverWait(driver,10).until(ec.element_to_be_clickable((By.CSS_SELECTOR, \"textarea[class=gLFyf]\")))\n",
    "findtext.send_keys(\"貓\")\n",
    "div = driver.find_element(By.CLASS_NAME,\"Tg7LZd\")\n",
    "# xpath=driver.find_element(By.XPATH,\"/html/body/div[1]/div[3]/form/div[1]/div[1]/div[1]/button\") #解2\n",
    "#//任意位置查詢 /:下一階層查詢\n",
    "#*任意字元字串\n",
    "#@收尋屬性(attr_name-attr_value)...ex:[attr_name=attr_value]\n",
    "# xpath=driver.find_element(By.XPATH,'//*[text()=\"圖片\"]')\n",
    "div.click()\n",
    "ImageSize=driver.find_element(By.XPATH,'//*[text()=\"工具\"]').click()\n",
    "ImageSize=driver.find_element(By.XPATH,'//*[text()=\"大小\"]').click()\n",
    "ImageSize=driver.find_element(By.XPATH,'//*[text()=\"大\"]').click()\n",
    "elements = driver.find_elements(By.CLASS_NAME,'wXeWr')\n",
    "href = []\n",
    "for img in elements:\n",
    "    try :\n",
    "        if img !=\"\" :\n",
    "            img.click()\n",
    "    except:\n",
    "        continue\n",
    "#     time.sleep(1)\n",
    "    href.append(img.get_attribute(\"href\"))\n",
    "\n",
    "    \n",
    "\n"
   ]
  },
  {
   "cell_type": "code",
   "execution_count": 2,
   "id": "7ef4c5a9",
   "metadata": {},
   "outputs": [
    {
     "name": "stdout",
     "output_type": "stream",
     "text": [
      "['https://www.google.com.tw/imgres?imgurl=https%3A%2F%2Fcdn.hk01.com%2Fdi%2Fmedia%2Fimages%2Fdw%2F20220503%2F598221776203288576687042.jpeg%2F4-Da4DZToAxwkdfgnO9OG9P23Cdm5ealbUkTsG1JE7A%3Fv%3Dw1920r16_9&tbnid=UpcKU3mPTFdsHM&vet=12ahUKEwi6zvSbwpf_AhUBgFYBHf3bDxUQMygAegUIARDgAQ..i&imgrefurl=https%3A%2F%2Fwww.hk01.com%2F%25E5%25AF%25B5%25E7%2589%25A9%2F766181%2F%25E8%25B2%2593%25E8%25B2%2593%25E5%2586%25B7%25E7%259F%25A5%25E8%25AD%2598-%25E8%25B2%2593%25E5%25A5%25B4%25E5%25BF%2585%25E7%259D%2587%25E7%259A%25848%25E5%2580%258B%25E4%25B8%25BB%25E5%25AD%2590%25E7%2594%259F%25E6%25B4%25BB%25E7%25BF%2592%25E6%2580%25A7-%25E5%2596%25B5-%25E8%2581%25B2%25E5%258E%259F%25E4%25BE%2586%25E6%259A%2597%25E8%2597%258F%25E8%25A8%258A%25E6%2581%25AF&docid=4j_sGpKz-cNkVM&w=1920&h=1080&q=%E8%B2%93&hl=zh-TW&ved=2ahUKEwi6zvSbwpf_AhUBgFYBHf3bDxUQMygAegUIARDgAQ', 'https://www.google.com.tw/imgres?imgurl=https%3A%2F%2Fwww.japaholic.com%2Fstorage%2Ffiles%2Farticle_images%2FNzkyMDIyMDIxODIxMjYxMjkw.jpg&tbnid=ArVrHxqQszXBDM&vet=12ahUKEwi6zvSbwpf_AhUBgFYBHf3bDxUQMygBegUIARDiAQ..i&imgrefurl=https%3A%2F%2Fwww.japaholic.com%2Ftw%2Farticle%2Fdetail%2F909952-%25E6%25AD%25A1%25E8%25BF%258E%25E4%25BE%2586%25E5%2588%25B0%25E8%25B2%2593%25E5%25A5%25B4%25E4%25B9%258B%25E5%259C%258B%25EF%25BC%2581%25E3%2580%258C%25E8%25B2%2593%25E4%25B9%258B%25E6%2597%25A5%25E3%2580%258D%25E6%2598%25AF%25E4%25BB%2580%25E9%25BA%25BC%25EF%25BC%259F%25E6%2597%25A5%25E6%259C%25AC%25E4%25BA%25BA%25E7%259C%259F%25E7%259A%2584%25E6%25AF%2594%25E8%25BC%2583%25E5%2596%259C%25E6%25AD%25A1%25E8%25B2%2593%25EF%25BC%259F&docid=61kTYIRHY6Me3M&w=1320&h=742&q=%E8%B2%93&hl=zh-TW&ved=2ahUKEwi6zvSbwpf_AhUBgFYBHf3bDxUQMygBegUIARDiAQ', 'https://www.google.com.tw/imgres?imgurl=https%3A%2F%2Fcdn.hk01.com%2Fdi%2Fmedia%2Fimages%2Fdw%2F20211205%2F544170522670272512614079.jpeg%2FkBmExrj9__ij8GB5nicEP9OiephFCzQqELF_DRCxfw0%3Fv%3Dw1920r16_9&tbnid=iLujNOPZ85I6xM&vet=12ahUKEwi6zvSbwpf_AhUBgFYBHf3bDxUQMygCegUIARDkAQ..i&imgrefurl=https%3A%2F%2Fwww.hk01.com%2F%25E7%2586%25B1%25E7%2588%2586%25E8%25A9%25B1%25E9%25A1%258C%2F708582%2F%25E5%258F%25B2%25E5%258A%259B%25E5%258A%25A0-%25E7%2584%25A1%25E6%2595%25B5%25E8%25B2%2593%25E5%258A%258D%25E4%25BF%25A0-%25E7%259C%259F%25E8%25B2%2593%25E7%2589%2588-%25E5%259C%2593%25E7%259C%25BC%25E8%258B%25B1%25E7%259F%25AD%25E7%2584%25A1%25E8%25BE%259C%25E6%25A8%25A3%25E8%25A8%258E%25E9%25A3%259F-%25E6%2593%2584%25E7%258D%25B260%25E8%2590%25AC%25E7%25B2%2589%25E7%25B5%25B2&docid=PseM-gIxUtfj2M&w=1584&h=891&q=%E8%B2%93&hl=zh-TW&ved=2ahUKEwi6zvSbwpf_AhUBgFYBHf3bDxUQMygCegUIARDkAQ', 'https://www.google.com.tw/imgres?imgurl=https%3A%2F%2Fi.ytimg.com%2Fvi%2F2iQlKnp3j-E%2Fmaxresdefault.jpg&tbnid=VRcfJYrnsY9wWM&vet=12ahUKEwi6zvSbwpf_AhUBgFYBHf3bDxUQMygDegUIARDmAQ..i&imgrefurl=https%3A%2F%2Fwww.youtube.com%2Fwatch%3Fv%3D2iQlKnp3j-E&docid=DZnDOuUdeGZS2M&w=1280&h=720&q=%E8%B2%93&hl=zh-TW&ved=2ahUKEwi6zvSbwpf_AhUBgFYBHf3bDxUQMygDegUIARDmAQ', 'https://www.google.com.tw/imgres?imgurl=https%3A%2F%2Fstatic-cdn.nextapple.tw%2Fprod%2F2022-11%2F7A615D612DACA5CE2F7C59900D8B60C8%2F43c0f205f09bebd6de54b2d93e0be59b_1280.webp&tbnid=NhRey4aYzMcjgM&vet=12ahUKEwi6zvSbwpf_AhUBgFYBHf3bDxUQMygEegUIARDqAQ..i&imgrefurl=https%3A%2F%2Ftw.nextapple.com%2Finternational%2F20221126%2F7A615D612DACA5CE2F7C59900D8B60C8&docid=1MRv2itsFnqHCM&w=1280&h=853&q=%E8%B2%93&hl=zh-TW&ved=2ahUKEwi6zvSbwpf_AhUBgFYBHf3bDxUQMygEegUIARDqAQ', 'https://www.google.com.tw/imgres?imgurl=https%3A%2F%2Fi.imgur.com%2FjwOySnR.png&tbnid=RC2z5a65NQlteM&vet=12ahUKEwi6zvSbwpf_AhUBgFYBHf3bDxUQMygFegUIARDsAQ..i&imgrefurl=https%3A%2F%2Fwww.parkcat.com.tw%2Fblog%2F8955&docid=hdXGx7k-DLX3mM&w=2816&h=2816&q=%E8%B2%93&hl=zh-TW&ved=2ahUKEwi6zvSbwpf_AhUBgFYBHf3bDxUQMygFegUIARDsAQ', 'https://www.google.com.tw/imgres?imgurl=https%3A%2F%2Fi.ytimg.com%2Fvi%2F8iw0vFGrRjI%2Fmaxresdefault.jpg&tbnid=cn6ucDfovd5XOM&vet=12ahUKEwi6zvSbwpf_AhUBgFYBHf3bDxUQMygGegUIARDuAQ..i&imgrefurl=https%3A%2F%2Fwww.youtube.com%2Fwatch%3Fv%3D8iw0vFGrRjI&docid=f3auVE531GpKPM&w=1280&h=720&itg=1&q=%E8%B2%93&hl=zh-TW&ved=2ahUKEwi6zvSbwpf_AhUBgFYBHf3bDxUQMygGegUIARDuAQ', 'https://www.google.com.tw/imgres?imgurl=https%3A%2F%2Fstatic.popdaily.com.tw%2Fu%2F202105%2F56ed01a0-4bbe-4502-a7f1-7f48648aacab.jpg&tbnid=V4TxP9hjdtgJAM&vet=12ahUKEwi6zvSbwpf_AhUBgFYBHf3bDxUQMygHegUIARDzAQ..i&imgrefurl=https%3A%2F%2Fwww.popdaily.com.tw%2Fpet%2F730305&docid=fQAYj26WiCaCPM&w=840&h=1120&q=%E8%B2%93&hl=zh-TW&ved=2ahUKEwi6zvSbwpf_AhUBgFYBHf3bDxUQMygHegUIARDzAQ', 'https://www.google.com.tw/imgres?imgurl=https%3A%2F%2Fcdn.hk01.com%2Fdi%2Fmedia%2Fimages%2Fdw%2F20230525%2F738465110888026112068479.jpeg%2FVJLtpKW8tugbL5kCXxNQS58ZcfwMabiDoYP4sqGD-LI%3Fv%3Dw1920r16_9&tbnid=iBY-sZ-N9pbevM&vet=12ahUKEwi6zvSbwpf_AhUBgFYBHf3bDxUQMygIegUIARD1AQ..i&imgrefurl=https%3A%2F%2Fwww.hk01.com%2F%25E5%25AF%25B5%25E7%2589%25A9%2F894866%2F%25E8%25B2%2593%25E5%25A5%25B4%25E5%259C%2596%25E9%2591%2591-5%25E9%25BB%259E%25E5%2585%25A8%25E4%25B8%25AD%25E8%25AD%2589%25E6%2598%258E%25E4%25BD%25A0%25E6%2598%25AF%25E5%2580%258B%25E6%25BB%25BF%25E5%2588%2586%25E8%25B2%2593%25E5%25A5%25B4-%25E7%259E%2593%25E5%2594%2594%25E5%25A4%25A0%25E5%258F%25AA%25E5%2596%25BA%25E6%2588%2590%25E5%25A5%25B4%25E7%25AC%25AC%25E4%25B8%2580%25E6%25AD%25A5&docid=FVGXoJCVBp4V-M&w=1200&h=675&itg=1&q=%E8%B2%93&hl=zh-TW&ved=2ahUKEwi6zvSbwpf_AhUBgFYBHf3bDxUQMygIegUIARD1AQ', 'https://www.google.com.tw/imgres?imgurl=https%3A%2F%2Fstork.pet%2Fwp-content%2Fuploads%2F2022%2F12%2F01-20.png&tbnid=SAiKa-DkTiltrM&vet=12ahUKEwi6zvSbwpf_AhUBgFYBHf3bDxUQMygJegUIARD4AQ..i&imgrefurl=https%3A%2F%2Fstork.pet%2Fcatinyourheart1111205h%2F&docid=K0ew0ZExWDJTlM&w=1701&h=1725&q=%E8%B2%93&hl=zh-TW&ved=2ahUKEwi6zvSbwpf_AhUBgFYBHf3bDxUQMygJegUIARD4AQ']\n"
     ]
    }
   ],
   "source": [
    "print(href)"
   ]
  },
  {
   "cell_type": "code",
   "execution_count": 7,
   "id": "bdee3de7",
   "metadata": {},
   "outputs": [
    {
     "name": "stdout",
     "output_type": "stream",
     "text": [
      "['https://cdn.hk01.com/di/media/images/dw/20220503/598221776203288576687042.jpeg/4-Da4DZToAxwkdfgnO9OG9P23Cdm5ealbUkTsG1JE7A?v=w1920r16_9', 'https://static-cdn.nextapple.tw/prod/2023-05/3FF705954ED6BDC32D35F6ECEB909CEF/d23d7ed5f21039a690d31c50f5baea08_1280.webp', 'https://cdn.hk01.com/di/media/images/dw/20230525/738465110888026112068479.jpeg/VJLtpKW8tugbL5kCXxNQS58ZcfwMabiDoYP4sqGD-LI?v=w1920r16_9', 'https://www.japaholic.com/storage/files/article_images/NzkyMDIyMDIxODIxMjYxMjkw.jpg', 'https://i.ytimg.com/vi/2iQlKnp3j-E/maxresdefault.jpg', 'https://cdn.hk01.com/di/media/images/dw/20211205/544170522670272512614079.jpeg/kBmExrj9__ij8GB5nicEP9OiephFCzQqELF_DRCxfw0?v=w1920r16_9', 'https://i.ytimg.com/vi/EvgQ22Al0Z8/maxresdefault.jpg', 'https://i.ytimg.com/vi/vf-1LU7wWss/maxres2.jpg?sqp=-oaymwEoCIAKENAF8quKqQMcGADwAQH4AbYIgAKAD4oCDAgAEAEYZSBTKE4wDw==&rs=AOn4CLDDfgQwL8iZuUlZmugyqwjYfhEFgQ', 'https://static-cdn.nextapple.tw/prod/2022-11/7A615D612DACA5CE2F7C59900D8B60C8/43c0f205f09bebd6de54b2d93e0be59b_1280.webp', 'https://cdn.hk01.com/di/media/images/dw/20230525/738453551285538816649251.jpeg/j1CQU7df7gm51XBk5OGPWjgWkqJ80_fsEov9iRKL_Yk?v=w1920r16_9']\n"
     ]
    }
   ],
   "source": [
    "src=[]\n",
    "for imgh in href[:10]:\n",
    "    driver.get(imgh)\n",
    "    time.sleep(1)\n",
    "    bigpic=driver.find_element(By.CLASS_NAME,\"r48jcc\")\n",
    "    src.append(bigpic.get_attribute(\"src\"))\n",
    "print(src)"
   ]
  },
  {
   "cell_type": "code",
   "execution_count": 3,
   "id": "f681f690",
   "metadata": {},
   "outputs": [
    {
     "name": "stdout",
     "output_type": "stream",
     "text": [
      "Collecting wget\n",
      "  Downloading wget-3.2.zip (10 kB)\n",
      "  Preparing metadata (setup.py): started\n",
      "  Preparing metadata (setup.py): finished with status 'done'\n",
      "Building wheels for collected packages: wget\n",
      "  Building wheel for wget (setup.py): started\n",
      "  Building wheel for wget (setup.py): finished with status 'done'\n",
      "  Created wheel for wget: filename=wget-3.2-py3-none-any.whl size=9680 sha256=dfc9310003b34db03e463299a868d7f32a2bec7b4eed69559a8c1c8dfc4a1bd3\n",
      "  Stored in directory: c:\\users\\yijune\\appdata\\local\\pip\\cache\\wheels\\46\\78\\0e\\8e5e2b500f83a682c8d7e7ce820638cf99faa894a662f71cf0\n",
      "Successfully built wget\n",
      "Installing collected packages: wget\n",
      "Successfully installed wget-3.2\n"
     ]
    }
   ],
   "source": [
    "!pip install wget\n"
   ]
  },
  {
   "cell_type": "code",
   "execution_count": 5,
   "id": "f71d0655",
   "metadata": {},
   "outputs": [],
   "source": [
    "import os \n",
    "path='C:\\\\Users\\\\YiJune\\\\PY'\n",
    "path1 = os.getcwd()\n",
    "path1 = os.path.join(path1,'py')\n",
    "os.mkdir(path1)"
   ]
  },
  {
   "cell_type": "code",
   "execution_count": 46,
   "id": "2436ec47",
   "metadata": {},
   "outputs": [],
   "source": [
    "import wget\n",
    "imgnum=0\n",
    "for Src in src:\n",
    "    imgnum+=1\n",
    "    save_as=os.path.join(path1,str(imgnum)+\".jpg\")\n",
    "    wget.download(Src,save_as)"
   ]
  },
  {
   "cell_type": "code",
   "execution_count": 51,
   "id": "d7c8f58a",
   "metadata": {},
   "outputs": [
    {
     "name": "stdout",
     "output_type": "stream",
     "text": [
      "2023-05-29 11:41:16.039677\n"
     ]
    }
   ],
   "source": [
    "import datetime\n",
    "print(datetime.datetime.now())"
   ]
  },
  {
   "cell_type": "code",
   "execution_count": null,
   "id": "7d942f38",
   "metadata": {},
   "outputs": [],
   "source": []
  }
 ],
 "metadata": {
  "kernelspec": {
   "display_name": "Python 3 (ipykernel)",
   "language": "python",
   "name": "python3"
  },
  "language_info": {
   "codemirror_mode": {
    "name": "ipython",
    "version": 3
   },
   "file_extension": ".py",
   "mimetype": "text/x-python",
   "name": "python",
   "nbconvert_exporter": "python",
   "pygments_lexer": "ipython3",
   "version": "3.10.9"
  }
 },
 "nbformat": 4,
 "nbformat_minor": 5
}
